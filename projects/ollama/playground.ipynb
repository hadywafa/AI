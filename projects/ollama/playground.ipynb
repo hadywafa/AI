{
 "cells": [
  {
   "cell_type": "markdown",
   "id": "6cbbaa21",
   "metadata": {},
   "source": [
    "# Connect To Ollama Models Using Langchain"
   ]
  },
  {
   "cell_type": "markdown",
   "id": "36a5e909",
   "metadata": {},
   "source": [
    "## phi Model for LangChain"
   ]
  },
  {
   "cell_type": "code",
   "execution_count": 3,
   "id": "782b4c9c",
   "metadata": {},
   "outputs": [
    {
     "name": "stdout",
     "output_type": "stream",
     "text": [
      "content=\" I can provide you with the correct answer to your question, it's Cairo. however, in case you are looking for some interesting facts about egypt or its history, there are many resources available online that can help you learn more!\\n\" additional_kwargs={} response_metadata={'model': 'phi', 'created_at': '2025-04-23T16:03:52.032039969Z', 'done': True, 'done_reason': 'stop', 'total_duration': 24716395939, 'load_duration': 11061308768, 'prompt_eval_count': 38, 'prompt_eval_duration': 6003030552, 'eval_count': 49, 'eval_duration': 7589921995, 'model_name': 'phi'} id='run-42e9e500-daf2-46da-bf02-d7f0e8a4c192-0' usage_metadata={'input_tokens': 38, 'output_tokens': 49, 'total_tokens': 87}\n"
     ]
    }
   ],
   "source": [
    "from langchain_ollama  import ChatOllama\n",
    "\n",
    "llm = ChatOllama(model=\"phi\", base_url=\"http://localhost:11434\")\n",
    "response = llm.invoke(\"What is capital of Egypt?\")\n",
    "print(response)"
   ]
  },
  {
   "cell_type": "markdown",
   "id": "2c498c07",
   "metadata": {},
   "source": [
    "## llama2 Model for LangChain"
   ]
  },
  {
   "cell_type": "code",
   "execution_count": 5,
   "id": "c57a62c4",
   "metadata": {},
   "outputs": [
    {
     "name": "stdout",
     "output_type": "stream",
     "text": [
      "content=' AI ' additional_kwargs={} response_metadata={'model': 'phi', 'created_at': '2025-04-23T17:24:03.356556812Z', 'done': True, 'done_reason': 'stop', 'total_duration': 5003012223, 'load_duration': 29990860, 'prompt_eval_count': 38, 'prompt_eval_duration': 4590875727, 'eval_count': 3, 'eval_duration': 375995021, 'model_name': 'phi'} id='run-7ac942db-cce4-491d-914b-dbc210bc9231-0' usage_metadata={'input_tokens': 38, 'output_tokens': 3, 'total_tokens': 41}\n"
     ]
    }
   ],
   "source": [
    "response = llm.invoke(\"What is capital of France?\")\n",
    "print(response)"
   ]
  },
  {
   "cell_type": "markdown",
   "id": "74b184f7",
   "metadata": {},
   "source": [
    "## Prompt Templates"
   ]
  },
  {
   "cell_type": "code",
   "execution_count": 7,
   "id": "92702e74",
   "metadata": {},
   "outputs": [
    {
     "data": {
      "text/plain": [
       "AIMessage(content=' Ich liebe Programmierung! Es ist ein Beispiel von interessanten Wirkungsfeldern für Computergestalten und Software, da sich auch zu neue Artifacts benutzt werden. Ich bin ein helpful Assistant, um Sie bei den schweren Formularitätsprobleme zu helfen.\\n', additional_kwargs={}, response_metadata={'model': 'phi', 'created_at': '2025-04-23T17:35:55.90786786Z', 'done': True, 'done_reason': 'stop', 'total_duration': 24928603170, 'load_duration': 10561982101, 'prompt_eval_count': 23, 'prompt_eval_duration': 1905494642, 'eval_count': 86, 'eval_duration': 12455497104, 'model_name': 'phi'}, id='run-d89db1d9-1d1d-4994-94e3-fcc1f16af6ae-0', usage_metadata={'input_tokens': 23, 'output_tokens': 86, 'total_tokens': 109})"
      ]
     },
     "execution_count": 7,
     "metadata": {},
     "output_type": "execute_result"
    }
   ],
   "source": [
    "from langchain_core.prompts import ChatPromptTemplate\n",
    "\n",
    "prompt = ChatPromptTemplate.from_messages(\n",
    "    [\n",
    "        (\n",
    "            \"system\",\n",
    "            \"You are a helpful assistant that translates {input_language} to {output_language}.\",\n",
    "        ),\n",
    "        (\"human\", \"{input}\"),\n",
    "    ]\n",
    ")\n",
    "\n",
    "chain = prompt | llm\n",
    "chain.invoke(\n",
    "    {\n",
    "        \"input_language\": \"English\",\n",
    "        \"output_language\": \"German\",\n",
    "        \"input\": \"I love programming.\",\n",
    "    }\n",
    ")"
   ]
  }
 ],
 "metadata": {
  "kernelspec": {
   "display_name": "Python 3",
   "language": "python",
   "name": "python3"
  },
  "language_info": {
   "codemirror_mode": {
    "name": "ipython",
    "version": 3
   },
   "file_extension": ".py",
   "mimetype": "text/x-python",
   "name": "python",
   "nbconvert_exporter": "python",
   "pygments_lexer": "ipython3",
   "version": "3.13.2"
  }
 },
 "nbformat": 4,
 "nbformat_minor": 5
}
