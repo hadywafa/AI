{
 "cells": [
  {
   "cell_type": "markdown",
   "id": "6cbbaa21",
   "metadata": {},
   "source": [
    "# Connect To Ollama Models Using Langchain"
   ]
  },
  {
   "cell_type": "markdown",
   "id": "36a5e909",
   "metadata": {},
   "source": [
    "## phi Model for LangChain"
   ]
  },
  {
   "cell_type": "code",
   "execution_count": 3,
   "id": "782b4c9c",
   "metadata": {},
   "outputs": [
    {
     "name": "stdout",
     "output_type": "stream",
     "text": [
      "content=\" I can provide you with the correct answer to your question, it's Cairo. however, in case you are looking for some interesting facts about egypt or its history, there are many resources available online that can help you learn more!\\n\" additional_kwargs={} response_metadata={'model': 'phi', 'created_at': '2025-04-23T16:03:52.032039969Z', 'done': True, 'done_reason': 'stop', 'total_duration': 24716395939, 'load_duration': 11061308768, 'prompt_eval_count': 38, 'prompt_eval_duration': 6003030552, 'eval_count': 49, 'eval_duration': 7589921995, 'model_name': 'phi'} id='run-42e9e500-daf2-46da-bf02-d7f0e8a4c192-0' usage_metadata={'input_tokens': 38, 'output_tokens': 49, 'total_tokens': 87}\n"
     ]
    }
   ],
   "source": [
    "from langchain_ollama  import ChatOllama\n",
    "\n",
    "llm = ChatOllama(model=\"phi\", base_url=\"http://localhost:11434\")\n",
    "response = llm.invoke(\"What is capital of Egypt?\")\n",
    "print(response)"
   ]
  },
  {
   "cell_type": "markdown",
   "id": "2c498c07",
   "metadata": {},
   "source": [
    "## llama2 Model for LangChain"
   ]
  },
  {
   "cell_type": "code",
   "execution_count": 5,
   "id": "c57a62c4",
   "metadata": {},
   "outputs": [
    {
     "name": "stdout",
     "output_type": "stream",
     "text": [
      "content=' AI ' additional_kwargs={} response_metadata={'model': 'phi', 'created_at': '2025-04-23T17:24:03.356556812Z', 'done': True, 'done_reason': 'stop', 'total_duration': 5003012223, 'load_duration': 29990860, 'prompt_eval_count': 38, 'prompt_eval_duration': 4590875727, 'eval_count': 3, 'eval_duration': 375995021, 'model_name': 'phi'} id='run-7ac942db-cce4-491d-914b-dbc210bc9231-0' usage_metadata={'input_tokens': 38, 'output_tokens': 3, 'total_tokens': 41}\n"
     ]
    }
   ],
   "source": [
    "response = llm.invoke(\"What is capital of France?\")\n",
    "print(response)"
   ]
  },
  {
   "cell_type": "markdown",
   "id": "74b184f7",
   "metadata": {},
   "source": [
    "## Prompt Templates"
   ]
  },
  {
   "cell_type": "code",
   "execution_count": 6,
   "id": "92702e74",
   "metadata": {},
   "outputs": [
    {
     "name": "stdout",
     "output_type": "stream",
     "text": [
      "content=\" There isn't a definitive answer to that question, as it's a deeply personal and philosophical topic. However, many people believe that the purpose of life is to find happiness and fulfillment in whatever way works for each individual. Some also believe that the pursuit of knowledge and understanding can be a meaningful goal. Ultimately, the meaning of life may vary from person to person.\\n\" additional_kwargs={} response_metadata={'model': 'phi', 'created_at': '2025-04-23T17:28:30.250491913Z', 'done': True, 'done_reason': 'stop', 'total_duration': 11723958280, 'load_duration': 11600701, 'prompt_eval_count': 43, 'prompt_eval_duration': 859137874, 'eval_count': 75, 'eval_duration': 10851114637, 'model_name': 'phi'} id='run-65f4916d-e578-41a5-9de7-5274f753a761-0' usage_metadata={'input_tokens': 43, 'output_tokens': 75, 'total_tokens': 118}\n"
     ]
    }
   ],
   "source": [
    "from langchain.prompts import ChatPromptTemplate\n",
    "\n",
    "template = ChatPromptTemplate.from_template(\"Q: {question}\\nA:\")\n",
    "prompt = template.format_messages(question=\"What is meaning of life?\")\n",
    "\n",
    "response = llm.invoke(prompt)\n",
    "print(response)"
   ]
  }
 ],
 "metadata": {
  "kernelspec": {
   "display_name": "Python 3",
   "language": "python",
   "name": "python3"
  },
  "language_info": {
   "codemirror_mode": {
    "name": "ipython",
    "version": 3
   },
   "file_extension": ".py",
   "mimetype": "text/x-python",
   "name": "python",
   "nbconvert_exporter": "python",
   "pygments_lexer": "ipython3",
   "version": "3.13.2"
  }
 },
 "nbformat": 4,
 "nbformat_minor": 5
}
